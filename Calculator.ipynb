{
 "cells": [
  {
   "cell_type": "markdown",
   "id": "40c98018-bac2-473b-87e5-0cefe3a25283",
   "metadata": {},
   "source": [
    "# Calculator"
   ]
  },
  {
   "cell_type": "code",
   "execution_count": null,
   "id": "629b47b0-e7e2-468f-b6dd-dda30e53f051",
   "metadata": {},
   "outputs": [],
   "source": [
    "a = int(input(\"enter the first number \\n\"))\n",
    "b = int(input(\"enter the second number \\n\"))\n",
    "c = input(\"enter the operation you want to perform \\n Eg: + - * / \")\n",
    "# print(type(c))\n",
    "\n",
    "if c== '+' :\n",
    "    print(f\"addition of {a} and {b} is {a+b}\")\n",
    "elif c== '-' :\n",
    "    print(f\"subtraction of {a} and {b} is {a-b}\")\n",
    "elif c== '*' :\n",
    "    print(f\"Multiplication of {a} and {b} is {a*b}\")\n",
    "elif c== '/' :\n",
    "    if b == 0:\n",
    "        b=int(input(f\"you have enterd second number as 0. please re-enter second number again \\n\"))\n",
    "        if b==0:\n",
    "            print(\"Invalid\")\n",
    "        else:\n",
    "            print(f\"division of {a} and {b} is {a/b}\")\n",
    "    else:\n",
    "        print(f\"division of {a} and {b} is {a/b}\")"
   ]
  }
 ],
 "metadata": {
  "kernelspec": {
   "display_name": "Python 3 (ipykernel)",
   "language": "python",
   "name": "python3"
  },
  "language_info": {
   "codemirror_mode": {
    "name": "ipython",
    "version": 3
   },
   "file_extension": ".py",
   "mimetype": "text/x-python",
   "name": "python",
   "nbconvert_exporter": "python",
   "pygments_lexer": "ipython3",
   "version": "3.11.5"
  }
 },
 "nbformat": 4,
 "nbformat_minor": 5
}
